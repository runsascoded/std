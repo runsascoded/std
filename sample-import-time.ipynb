{
 "cells": [
  {
   "cell_type": "code",
   "execution_count": 1,
   "id": "b8efa190",
   "metadata": {
    "execution": {
     "iopub.execute_input": "2023-08-03T13:53:32.216238Z",
     "iopub.status.busy": "2023-08-03T13:53:32.215711Z",
     "iopub.status.idle": "2023-08-03T13:53:32.229052Z",
     "shell.execute_reply": "2023-08-03T13:53:32.228459Z"
    },
    "papermill": {
     "duration": 0.022311,
     "end_time": "2023-08-03T13:53:32.231275",
     "exception": false,
     "start_time": "2023-08-03T13:53:32.208964",
     "status": "completed"
    },
    "tags": []
   },
   "outputs": [
    {
     "name": "stdout",
     "output_type": "stream",
     "text": [
      "CPU times: user 914 µs, sys: 397 µs, total: 1.31 ms\n",
      "Wall time: 1.6 ms\n"
     ]
    }
   ],
   "source": [
    "%%time\n",
    "from std import *"
   ]
  },
  {
   "cell_type": "code",
   "execution_count": 2,
   "id": "68a426f5",
   "metadata": {
    "execution": {
     "iopub.execute_input": "2023-08-03T13:53:32.235721Z",
     "iopub.status.busy": "2023-08-03T13:53:32.235375Z",
     "iopub.status.idle": "2023-08-03T13:53:32.243620Z",
     "shell.execute_reply": "2023-08-03T13:53:32.243199Z"
    },
    "papermill": {
     "duration": 0.012175,
     "end_time": "2023-08-03T13:53:32.245326",
     "exception": false,
     "start_time": "2023-08-03T13:53:32.233151",
     "status": "completed"
    },
    "tags": []
   },
   "outputs": [
    {
     "data": {
      "text/plain": [
       "<function genericpath.exists(path)>"
      ]
     },
     "execution_count": 2,
     "metadata": {},
     "output_type": "execute_result"
    }
   ],
   "source": [
    "exists"
   ]
  }
 ],
 "metadata": {
  "kernelspec": {
   "display_name": "Python 3 (ipykernel)",
   "language": "python",
   "name": "python3"
  },
  "language_info": {
   "codemirror_mode": {
    "name": "ipython",
    "version": 3
   },
   "file_extension": ".py",
   "mimetype": "text/x-python",
   "name": "python",
   "nbconvert_exporter": "python",
   "pygments_lexer": "ipython3",
   "version": "3.9.13"
  },
  "papermill": {
   "default_parameters": {},
   "duration": 1.156208,
   "end_time": "2023-08-03T13:53:32.362873",
   "environment_variables": {},
   "exception": null,
   "input_path": "sample-import-time.ipynb",
   "output_path": "sample-import-time.ipynb",
   "parameters": {},
   "start_time": "2023-08-03T13:53:31.206665",
   "version": "2.4.0"
  }
 },
 "nbformat": 4,
 "nbformat_minor": 5
}