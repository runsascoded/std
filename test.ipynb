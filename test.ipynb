{
  "cells": [
    {
      "cell_type": "markdown",
      "metadata": {
        "tags": []
      },
      "source": [
        "Snapshot `__builtins__` before executing `from stdlb import *`"
      ]
    },
    {
      "cell_type": "code",
      "execution_count": 1,
      "metadata": {
        "tags": []
      },
      "outputs": [
        {
          "data": {
            "text/plain": [
              "{'ArithmeticError': ArithmeticError,\n",
              " 'AssertionError': AssertionError,\n",
              " 'AttributeError': AttributeError,\n",
              " 'BaseException': BaseException,\n",
              " 'BlockingIOError': BlockingIOError,\n",
              " 'BrokenPipeError': BrokenPipeError,\n",
              " 'BufferError': BufferError,\n",
              " 'BytesWarning': BytesWarning,\n",
              " 'ChildProcessError': ChildProcessError,\n",
              " 'ConnectionAbortedError': ConnectionAbortedError,\n",
              " 'ConnectionError': ConnectionError,\n",
              " 'ConnectionRefusedError': ConnectionRefusedError,\n",
              " 'ConnectionResetError': ConnectionResetError,\n",
              " 'DeprecationWarning': DeprecationWarning,\n",
              " 'EOFError': EOFError,\n",
              " 'Ellipsis': Ellipsis,\n",
              " 'EnvironmentError': OSError,\n",
              " 'Exception': Exception,\n",
              " 'False': False,\n",
              " 'FileExistsError': FileExistsError,\n",
              " 'FileNotFoundError': FileNotFoundError,\n",
              " 'FloatingPointError': FloatingPointError,\n",
              " 'FutureWarning': FutureWarning,\n",
              " 'GeneratorExit': GeneratorExit,\n",
              " 'IOError': OSError,\n",
              " 'ImportError': ImportError,\n",
              " 'ImportWarning': ImportWarning,\n",
              " 'IndentationError': IndentationError,\n",
              " 'IndexError': IndexError,\n",
              " 'InterruptedError': InterruptedError,\n",
              " 'IsADirectoryError': IsADirectoryError,\n",
              " 'KeyError': KeyError,\n",
              " 'KeyboardInterrupt': KeyboardInterrupt,\n",
              " 'LookupError': LookupError,\n",
              " 'MemoryError': MemoryError,\n",
              " 'ModuleNotFoundError': ModuleNotFoundError,\n",
              " 'NameError': NameError,\n",
              " 'None': None,\n",
              " 'NotADirectoryError': NotADirectoryError,\n",
              " 'NotImplemented': NotImplemented,\n",
              " 'NotImplementedError': NotImplementedError,\n",
              " 'OSError': OSError,\n",
              " 'OverflowError': OverflowError,\n",
              " 'PendingDeprecationWarning': PendingDeprecationWarning,\n",
              " 'PermissionError': PermissionError,\n",
              " 'ProcessLookupError': ProcessLookupError,\n",
              " 'RecursionError': RecursionError,\n",
              " 'ReferenceError': ReferenceError,\n",
              " 'ResourceWarning': ResourceWarning,\n",
              " 'RuntimeError': RuntimeError,\n",
              " 'RuntimeWarning': RuntimeWarning,\n",
              " 'StopAsyncIteration': StopAsyncIteration,\n",
              " 'StopIteration': StopIteration,\n",
              " 'SyntaxError': SyntaxError,\n",
              " 'SyntaxWarning': SyntaxWarning,\n",
              " 'SystemError': SystemError,\n",
              " 'SystemExit': SystemExit,\n",
              " 'TabError': TabError,\n",
              " 'TimeoutError': TimeoutError,\n",
              " 'True': True,\n",
              " 'TypeError': TypeError,\n",
              " 'UnboundLocalError': UnboundLocalError,\n",
              " 'UnicodeDecodeError': UnicodeDecodeError,\n",
              " 'UnicodeEncodeError': UnicodeEncodeError,\n",
              " 'UnicodeError': UnicodeError,\n",
              " 'UnicodeTranslateError': UnicodeTranslateError,\n",
              " 'UnicodeWarning': UnicodeWarning,\n",
              " 'UserWarning': UserWarning,\n",
              " 'ValueError': ValueError,\n",
              " 'Warning': Warning,\n",
              " 'ZeroDivisionError': ZeroDivisionError,\n",
              " '__IPYTHON__': True,\n",
              " '__build_class__': <function __build_class__>,\n",
              " '__debug__': True,\n",
              " '__doc__': \"Built-in functions, exceptions, and other objects.\\n\\nNoteworthy: None is the `nil' object; Ellipsis represents `...' in slices.\",\n",
              " '__import__': <function __import__>,\n",
              " '__loader__': _frozen_importlib.BuiltinImporter,\n",
              " '__name__': 'builtins',\n",
              " '__package__': '',\n",
              " '__spec__': ModuleSpec(name='builtins', loader=<class '_frozen_importlib.BuiltinImporter'>, origin='built-in'),\n",
              " 'abs': <function abs(x, /)>,\n",
              " 'all': <function all(iterable, /)>,\n",
              " 'any': <function any(iterable, /)>,\n",
              " 'ascii': <function ascii(obj, /)>,\n",
              " 'bin': <function bin(number, /)>,\n",
              " 'bool': bool,\n",
              " 'breakpoint': <function breakpoint>,\n",
              " 'bytearray': bytearray,\n",
              " 'bytes': bytes,\n",
              " 'callable': <function callable(obj, /)>,\n",
              " 'chr': <function chr(i, /)>,\n",
              " 'classmethod': classmethod,\n",
              " 'compile': <function compile(source, filename, mode, flags=0, dont_inherit=False, optimize=-1, *, _feature_version=-1)>,\n",
              " 'complex': complex,\n",
              " 'copyright': Copyright (c) 2001-2022 Python Software Foundation.\n",
              " All Rights Reserved.\n",
              " \n",
              " Copyright (c) 2000 BeOpen.com.\n",
              " All Rights Reserved.\n",
              " \n",
              " Copyright (c) 1995-2001 Corporation for National Research Initiatives.\n",
              " All Rights Reserved.\n",
              " \n",
              " Copyright (c) 1991-1995 Stichting Mathematisch Centrum, Amsterdam.\n",
              " All Rights Reserved.,\n",
              " 'credits':     Thanks to CWI, CNRI, BeOpen.com, Zope Corporation and a cast of thousands\n",
              "     for supporting Python development.  See www.python.org for more information.,\n",
              " 'delattr': <function delattr(obj, name, /)>,\n",
              " 'dict': dict,\n",
              " 'dir': <function dir>,\n",
              " 'display': <function IPython.core.display_functions.display(*objs, include=None, exclude=None, metadata=None, transient=None, display_id=None, raw=False, clear=False, **kwargs)>,\n",
              " 'divmod': <function divmod(x, y, /)>,\n",
              " 'enumerate': enumerate,\n",
              " 'eval': <function eval(source, globals=None, locals=None, /)>,\n",
              " 'exec': <function exec(source, globals=None, locals=None, /)>,\n",
              " 'execfile': <function _pydev_bundle._pydev_execfile.execfile(file, glob=None, loc=None)>,\n",
              " 'filter': filter,\n",
              " 'float': float,\n",
              " 'format': <function format(value, format_spec='', /)>,\n",
              " 'frozenset': frozenset,\n",
              " 'get_ipython': <bound method InteractiveShell.get_ipython of <ipykernel.zmqshell.ZMQInteractiveShell object at 0x107694d30>>,\n",
              " 'getattr': <function getattr>,\n",
              " 'globals': <function globals()>,\n",
              " 'hasattr': <function hasattr(obj, name, /)>,\n",
              " 'hash': <function hash(obj, /)>,\n",
              " 'help': Type help() for interactive help, or help(object) for help about object.,\n",
              " 'hex': <function hex(number, /)>,\n",
              " 'id': <function id(obj, /)>,\n",
              " 'input': <bound method Kernel.raw_input of <ipykernel.ipkernel.IPythonKernel object at 0x1076947f0>>,\n",
              " 'int': int,\n",
              " 'isinstance': <function isinstance(obj, class_or_tuple, /)>,\n",
              " 'issubclass': <function issubclass(cls, class_or_tuple, /)>,\n",
              " 'iter': <function iter>,\n",
              " 'len': <function len(obj, /)>,\n",
              " 'license': Type license() to see the full license text,\n",
              " 'list': list,\n",
              " 'locals': <function locals()>,\n",
              " 'map': map,\n",
              " 'max': <function max>,\n",
              " 'memoryview': memoryview,\n",
              " 'min': <function min>,\n",
              " 'next': <function next>,\n",
              " 'object': object,\n",
              " 'oct': <function oct(number, /)>,\n",
              " 'open': <function io.open(file, mode='r', buffering=-1, encoding=None, errors=None, newline=None, closefd=True, opener=None)>,\n",
              " 'ord': <function ord(c, /)>,\n",
              " 'pow': <function pow(base, exp, mod=None)>,\n",
              " 'print': <function print>,\n",
              " 'property': property,\n",
              " 'range': range,\n",
              " 'repr': <function repr(obj, /)>,\n",
              " 'reversed': reversed,\n",
              " 'round': <function round(number, ndigits=None)>,\n",
              " 'runfile': <function _pydev_bundle.pydev_umd.runfile(filename, args=None, wdir=None, namespace=None)>,\n",
              " 'set': set,\n",
              " 'setattr': <function setattr(obj, name, value, /)>,\n",
              " 'slice': slice,\n",
              " 'sorted': <function sorted(iterable, /, *, key=None, reverse=False)>,\n",
              " 'staticmethod': staticmethod,\n",
              " 'str': str,\n",
              " 'sum': <function sum(iterable, /, start=0)>,\n",
              " 'super': super,\n",
              " 'tuple': tuple,\n",
              " 'type': type,\n",
              " 'vars': <function vars>,\n",
              " 'zip': zip}"
            ]
          },
          "execution_count": 1,
          "metadata": {},
          "output_type": "execute_result"
        }
      ],
      "source": [
        "before = { k: getattr(__builtins__, k) for k in dir(__builtins__) }\n",
        "before"
      ]
    },
    {
      "cell_type": "markdown",
      "metadata": {
        "tags": []
      },
      "source": [
        "Import most of the Python standard library, via `stdlb`"
      ]
    },
    {
      "cell_type": "code",
      "execution_count": 2,
      "metadata": {
        "tags": []
      },
      "outputs": [
        {
          "name": "stdout",
          "output_type": "stream",
          "text": [
            "CPU times: user 875 µs, sys: 501 µs, total: 1.38 ms\n",
            "Wall time: 1.65 ms\n"
          ]
        }
      ],
      "source": [
        "%%time\n",
        "from stdlb import *"
      ]
    },
    {
      "cell_type": "markdown",
      "metadata": {
        "tags": []
      },
      "source": [
        "Snapshot `globals` after executing `from stdlb import *` (to check for inadvertent overrides of `__builtins__`)"
      ]
    },
    {
      "cell_type": "code",
      "execution_count": 3,
      "metadata": {
        "tags": []
      },
      "outputs": [],
      "source": [
        "after = dict(**globals())"
      ]
    },
    {
      "cell_type": "code",
      "execution_count": 4,
      "metadata": {
        "tags": []
      },
      "outputs": [
        {
          "data": {
            "text/plain": [
              "{'BlockingIOError',\n",
              " '__doc__',\n",
              " '__loader__',\n",
              " '__name__',\n",
              " '__package__',\n",
              " '__spec__',\n",
              " 'compile',\n",
              " 'copyright',\n",
              " 'get_ipython',\n",
              " 'open',\n",
              " 'pow'}"
            ]
          },
          "execution_count": 4,
          "metadata": {},
          "output_type": "execute_result"
        }
      ],
      "source": [
        "both_keys = set(before).intersection(set(after))\n",
        "both_keys"
      ]
    },
    {
      "cell_type": "code",
      "execution_count": 5,
      "metadata": {
        "tags": []
      },
      "outputs": [],
      "source": [
        "expected_diff_keys = [\n",
        "    '__doc__',\n",
        "    '__loader__',\n",
        "    '__name__',\n",
        "    '__package__',\n",
        "    '__spec__',\n",
        "    'get_ipython',\n",
        "]"
      ]
    },
    {
      "cell_type": "code",
      "execution_count": 6,
      "metadata": {
        "tags": []
      },
      "outputs": [
        {
          "name": "stderr",
          "output_type": "stream",
          "text": [
            "__doc__: Built-in functions, exceptions, and other objects.\n",
            "\n",
            "Noteworthy: None is the `nil' object; Ellipsis represents `...' in slices. != Automatically created module for IPython interactive environment\n",
            "__loader__: <class '_frozen_importlib.BuiltinImporter'> != None\n",
            "__name__: builtins != __main__\n",
            "__package__:  != None\n",
            "__spec__: ModuleSpec(name='builtins', loader=<class '_frozen_importlib.BuiltinImporter'>, origin='built-in') != None\n",
            "get_ipython: <bound method InteractiveShell.get_ipython of <ipykernel.zmqshell.ZMQInteractiveShell object at 0x107694d30>> != <bound method InteractiveShell.get_ipython of <ipykernel.zmqshell.ZMQInteractiveShell object at 0x107694d30>>\n"
          ]
        }
      ],
      "source": [
        "actual_diff_keys = []\n",
        "for k, b in before.items():\n",
        "    if k not in after:\n",
        "        continue\n",
        "    a = after[k]\n",
        "    if b is not a:\n",
        "        stderr.write(f'{k}: {b} != {a}\\n')\n",
        "        actual_diff_keys.append(k)"
      ]
    },
    {
      "cell_type": "code",
      "execution_count": 7,
      "metadata": {
        "tags": []
      },
      "outputs": [],
      "source": [
        "unexpected_diff_keys = set(actual_diff_keys).difference(expected_diff_keys)\n",
        "if unexpected_diff_keys:\n",
        "    raise RuntimeError(f\"Found {len(unexpected_diff_keys)} unexpected __builtins__ overrides: {', '.join(unexpected_diff_keys)}\")"
      ]
    }
  ],
  "metadata": {
    "kernelspec": {
      "display_name": "Python 3 (ipykernel)",
      "language": "python",
      "name": "python3"
    },
    "language_info": {
      "codemirror_mode": {
        "name": "ipython",
        "version": 3
      },
      "file_extension": ".py",
      "mimetype": "text/x-python",
      "name": "python",
      "nbconvert_exporter": "python",
      "pygments_lexer": "ipython3",
      "version": "3.9.13"
    }
  },
  "nbformat": 4,
  "nbformat_minor": 5
}
